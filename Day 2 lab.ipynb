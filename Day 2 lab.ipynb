{
 "cells": [
  {
   "cell_type": "code",
   "execution_count": 1,
   "metadata": {},
   "outputs": [
    {
     "name": "stdout",
     "output_type": "stream",
     "text": [
      "Results:\n",
      "Addition: 10.0\n",
      "Subtraction: 1.1999999999999993\n",
      "Multiplication: 24.64\n",
      "Division: 1.2727272727272725\n"
     ]
    }
   ],
   "source": [
    "# Q.1 Write a program for arithmatic operators\n",
    "# Ans:\n",
    "num1 = 5.6\n",
    "num2 = 4.4\n",
    "\n",
    "addition = num1 + num2\n",
    "\n",
    "subtraction = num1 - num2\n",
    "multiplication = num1 * num2\n",
    "\n",
    "if num2 != 0:\n",
    "    division = num1 / num2\n",
    "else:\n",
    "    division = \"Undefined (division by zero)\"\n",
    "\n",
    "print(\"Results:\")\n",
    "print(\"Addition:\", addition)\n",
    "print(\"Subtraction:\", subtraction)\n",
    "print(\"Multiplication:\", multiplication)\n",
    "print(\"Division:\", division)"
   ]
  },
  {
   "cell_type": "code",
   "execution_count": 2,
   "metadata": {},
   "outputs": [
    {
     "name": "stdout",
     "output_type": "stream",
     "text": [
      "Initial value: 10\n",
      "After += 5: 15\n",
      "After -= 3: 12\n",
      "After *= 2: 24\n",
      "After /= 4: 6.0\n",
      "After %= 3: 0.0\n",
      "After **= 2: 0.0\n",
      "After //= 5: 0.0\n"
     ]
    }
   ],
   "source": [
    "# Q.2 Write a program for assignment operators\n",
    "# Ans:\n",
    "\n",
    "number = 10\n",
    "\n",
    "\n",
    "print(\"Initial value:\", number)\n",
    "\n",
    "# Add and assign\n",
    "number += 5 \n",
    "print(\"After += 5:\", number)\n",
    "\n",
    "# Subtract and assign\n",
    "number -= 3  \n",
    "print(\"After -= 3:\", number)\n",
    "\n",
    "# Multiply and assign\n",
    "number *= 2\n",
    "print(\"After *= 2:\", number)\n",
    "\n",
    "# Divide and assign\n",
    "number /= 4  \n",
    "print(\"After /= 4:\", number)\n",
    "\n",
    "# Modulus and assign\n",
    "number %= 3  \n",
    "print(\"After %= 3:\", number)\n",
    "\n",
    "# Exponentiation and assign\n",
    "number **= 2  \n",
    "print(\"After **= 2:\", number)\n",
    "\n",
    "# Floor division and assign\n",
    "number //= 5  \n",
    "print(\"After //= 5:\", number)"
   ]
  },
  {
   "cell_type": "code",
   "execution_count": null,
   "metadata": {},
   "outputs": [
    {
     "name": "stdout",
     "output_type": "stream",
     "text": [
      "a = 10  binary: 1010\n",
      "b = 4  binary: 0100\n",
      "a & b = 0  binary: 0000\n",
      "a | b = 14  binary: 1110\n",
      "a ^ b = 14  binary: 1110\n",
      "~a = -11  binary: -0001011\n",
      "~b = -5  binary: -0000101\n",
      "a << 1 = 20  binary: 10100\n",
      "a >> 1 = 5  binary: 0101\n"
     ]
    }
   ],
   "source": [
    "# Q.3Write a program for Bitwise operators \n",
    "# Ans:\n",
    "\n",
    "a = 10  # 1010 in binary\n",
    "b = 4   # 0100 in binary\n",
    "\n",
    "# Display the initial values\n",
    "print(\"a =\", a, \" binary:\", format(a, '04b'))\n",
    "print(\"b =\", b, \" binary:\", format(b, '04b'))\n",
    "\n",
    "# Bitwise AND (&)\n",
    "print(\"a & b =\", a & b, \" binary:\", format(a & b, '04b'))\n",
    "\n",
    "# Bitwise OR (|)\n",
    "print(\"a | b =\", a | b, \" binary:\", format(a | b, '04b'))\n",
    "\n",
    "# Bitwise XOR (^)\n",
    "print(\"a ^ b =\", a ^ b, \" binary:\", format(a ^ b, '04b'))\n",
    "\n",
    "# Bitwise NOT (~)\n",
    "print(\"~a =\", ~a, \" binary:\", format(~a, '08b'))\n",
    "print(\"~b =\", ~b, \" binary:\", format(~b, '08b'))\n",
    "\n",
    "# Bitwise Left Shift (<<)\n",
    "print(\"a << 1 =\", a << 1, \" binary:\", format(a << 1, '05b'))\n",
    "\n",
    "# Bitwise Right Shift (>>)\n",
    "print(\"a >> 1 =\", a >> 1, \" binary:\", format(a >> 1, '04b'))"
   ]
  },
  {
   "cell_type": "code",
   "execution_count": 4,
   "metadata": {},
   "outputs": [
    {
     "name": "stdout",
     "output_type": "stream",
     "text": [
      "The greatest number is: 56\n"
     ]
    }
   ],
   "source": [
    "# Q.4 Write a program to calculate greatest of three numbers.\n",
    "# Ans:\n",
    "def find_greatest(num1, num2, num3):\n",
    "    if (num1 >= num2) and (num1 >= num3):\n",
    "        return num1\n",
    "    elif (num2 >= num1) and (num2 >= num3):\n",
    "        return num2\n",
    "    else:\n",
    "        return num3\n",
    "\n",
    "number1 = 56\n",
    "number2 = 33\n",
    "number3 = 12\n",
    "\n",
    "greatest_number = find_greatest(number1, number2, number3)\n",
    "\n",
    "print(\"The greatest number is:\", greatest_number)"
   ]
  },
  {
   "cell_type": "code",
   "execution_count": 5,
   "metadata": {},
   "outputs": [
    {
     "name": "stdout",
     "output_type": "stream",
     "text": [
      "The area of the circle with radius 6.7 is: 141.0260942196458\n"
     ]
    }
   ],
   "source": [
    "# 1.      Calculate the area of a circle.\n",
    "# Ans:\n",
    "import math\n",
    "\n",
    "def calculate_area_of_circle(radius):\n",
    "    return math.pi * (radius ** 2)\n",
    "\n",
    "radius = 6.7\n",
    "\n",
    "area = calculate_area_of_circle(radius)\n",
    "\n",
    "\n",
    "print(\"The area of the circle with radius\", radius, \"is:\", area)\n"
   ]
  },
  {
   "cell_type": "code",
   "execution_count": 6,
   "metadata": {},
   "outputs": [
    {
     "name": "stdout",
     "output_type": "stream",
     "text": [
      "The area of the triangle with base 6 and height 4 is: 12.0\n"
     ]
    }
   ],
   "source": [
    "# 2.      Calculate the area of a triangle.\n",
    "# Ans:\n",
    "def calculate_area_of_triangle(base, height):\n",
    "    return 0.5 * base * height\n",
    "\n",
    "base = 6\n",
    "height = 4\n",
    "\n",
    "area = calculate_area_of_triangle(base, height)\n",
    "\n",
    "print(\"The area of the triangle with base\", base, \"and height\", height, \"is:\", area)"
   ]
  },
  {
   "cell_type": "code",
   "execution_count": 7,
   "metadata": {},
   "outputs": [
    {
     "name": "stdout",
     "output_type": "stream",
     "text": [
      "The area of the rectangle with length 4 and width 6 is: 24\n"
     ]
    }
   ],
   "source": [
    "# 3.      Calculate the area of a rectangle.\n",
    "# Ans:\n",
    "def calculate_area_of_rectangle(length, width):\n",
    "    return length * width\n",
    "\n",
    "length = 4\n",
    "width = 6\n",
    "\n",
    "area = calculate_area_of_rectangle(length, width)\n",
    "\n",
    "print(\"The area of the rectangle with length\", length, \"and width\", width, \"is:\", area)"
   ]
  },
  {
   "cell_type": "code",
   "execution_count": 8,
   "metadata": {},
   "outputs": [
    {
     "name": "stdout",
     "output_type": "stream",
     "text": [
      "The area of the square with side length 7.5 is: 56.25\n"
     ]
    }
   ],
   "source": [
    "# 4.      Calculate the area of a square.\n",
    "# Ans:\n",
    "def calculate_area_of_square(side_length):\n",
    "    return side_length ** 2\n",
    "\n",
    "side_length = 7.5\n",
    "\n",
    "area = calculate_area_of_square(side_length)\n",
    "\n",
    "print(\"The area of the square with side length\", side_length, \"is:\", area)"
   ]
  }
 ],
 "metadata": {
  "kernelspec": {
   "display_name": "Python 3",
   "language": "python",
   "name": "python3"
  },
  "language_info": {
   "codemirror_mode": {
    "name": "ipython",
    "version": 3
   },
   "file_extension": ".py",
   "mimetype": "text/x-python",
   "name": "python",
   "nbconvert_exporter": "python",
   "pygments_lexer": "ipython3",
   "version": "3.12.5"
  }
 },
 "nbformat": 4,
 "nbformat_minor": 2
}
