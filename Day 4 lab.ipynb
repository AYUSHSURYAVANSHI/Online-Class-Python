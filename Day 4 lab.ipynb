{
 "cells": [
  {
   "cell_type": "code",
   "execution_count": 2,
   "metadata": {},
   "outputs": [
    {
     "name": "stdout",
     "output_type": "stream",
     "text": [
      "Odd\n"
     ]
    }
   ],
   "source": [
    "# 1.     Write a Python program that takes a number as input and prints \"Even\" if the number is even and \"Odd\" if it's odd.\n",
    "# Ans:\n",
    "number = int(input(\"Enter a number: \"))  \n",
    "\n",
    "if number % 2 == 0:\n",
    "    print(\"Even\")  \n",
    "else:\n",
    "    print(\"Odd\") "
   ]
  },
  {
   "cell_type": "code",
   "execution_count": 3,
   "metadata": {},
   "outputs": [
    {
     "name": "stdout",
     "output_type": "stream",
     "text": [
      "You are eligible to vote.\n"
     ]
    }
   ],
   "source": [
    "# 2.      Create a Python program that checks whether a person is eligible to vote (18 years or older) based on their age.\n",
    "# Ans:\n",
    "age = int(input(\"Enter your age: \")) \n",
    "\n",
    "if age >= 18:\n",
    "    print(\"You are eligible to vote.\") \n",
    "else:\n",
    "    print(\"You are not eligible to vote.\")"
   ]
  },
  {
   "cell_type": "code",
   "execution_count": 4,
   "metadata": {},
   "outputs": [
    {
     "name": "stdout",
     "output_type": "stream",
     "text": [
      "2004 is a leap year.\n"
     ]
    }
   ],
   "source": [
    "# 3.      Write a Python program that determines if a given year is a leap year or not.\n",
    "# Ans:\n",
    "year = int(input(\"Enter a year: \")) \n",
    "\n",
    "if (year % 4 == 0 and year % 100 != 0) or (year % 400 == 0):\n",
    "    print(f\"{year} is a leap year.\")  \n",
    "else:\n",
    "    print(f\"{year} is not a leap year.\")  "
   ]
  },
  {
   "cell_type": "code",
   "execution_count": 5,
   "metadata": {},
   "outputs": [
    {
     "name": "stdout",
     "output_type": "stream",
     "text": [
      "The number is positive.\n"
     ]
    }
   ],
   "source": [
    "# 4.      Create a Python program that checks if a user-given number is positive, negative, or zero.\n",
    "# Ans:\n",
    "number = float(input(\"Enter a number: \")) \n",
    "\n",
    "if number > 0:\n",
    "    print(\"The number is positive.\")\n",
    "elif number < 0:\n",
    "    print(\"The number is negative.\")\n",
    "else:\n",
    "    print(\"The number is zero.\")     "
   ]
  },
  {
   "cell_type": "code",
   "execution_count": null,
   "metadata": {},
   "outputs": [
    {
     "name": "stdout",
     "output_type": "stream",
     "text": [
      "The largest number is: 6.0\n"
     ]
    }
   ],
   "source": [
    "# 5.      Write a Python program that determines the largest of three numbers entered by the user.\n",
    "# Ans:\n",
    "num1 = float(input(\"Enter the first number: \"))\n",
    "num2 = float(input(\"Enter the second number: \"))\n",
    "num3 = float(input(\"Enter the third number: \"))\n",
    "\n",
    "if num1 >= num2 and num1 >= num3:\n",
    "    largest = num1  \n",
    "elif num2 >= num1 and num2 >= num3:\n",
    "    largest = num2 \n",
    "else:\n",
    "    largest = num3 \n",
    "\n",
    "print(f\"The largest number is: {largest}\")\n"
   ]
  }
 ],
 "metadata": {
  "kernelspec": {
   "display_name": "Python 3",
   "language": "python",
   "name": "python3"
  },
  "language_info": {
   "codemirror_mode": {
    "name": "ipython",
    "version": 3
   },
   "file_extension": ".py",
   "mimetype": "text/x-python",
   "name": "python",
   "nbconvert_exporter": "python",
   "pygments_lexer": "ipython3",
   "version": "3.12.5"
  }
 },
 "nbformat": 4,
 "nbformat_minor": 2
}
