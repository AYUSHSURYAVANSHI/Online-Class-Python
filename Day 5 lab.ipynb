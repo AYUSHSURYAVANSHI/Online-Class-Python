{
 "cells": [
  {
   "cell_type": "code",
   "execution_count": 2,
   "metadata": {},
   "outputs": [
    {
     "name": "stdout",
     "output_type": "stream",
     "text": [
      "The result is: 5.0\n"
     ]
    }
   ],
   "source": [
    "# 1. Declare a div() function with two parameters. Then call the function and pass two numbers and display their division.\n",
    "# Ans:\n",
    "def div(num1, num2):\n",
    "    return num1 / num2\n",
    "\n",
    "# Call the function and pass two numbers\n",
    "result = div(10, 2)\n",
    "print(\"The result is:\", result)"
   ]
  },
  {
   "cell_type": "code",
   "execution_count": 3,
   "metadata": {},
   "outputs": [
    {
     "name": "stdout",
     "output_type": "stream",
     "text": [
      "The square is: 25\n"
     ]
    }
   ],
   "source": [
    "# 2. Declare a square() function with one parameter.Then call the function and pass one number and display the square of that number.\n",
    "# Ans:\n",
    "def square(num):\n",
    "    return num ** 2\n",
    "\n",
    "result = square(5)\n",
    "print(\"The square is:\", result)"
   ]
  },
  {
   "cell_type": "code",
   "execution_count": 4,
   "metadata": {},
   "outputs": [
    {
     "name": "stdout",
     "output_type": "stream",
     "text": [
      "Random numbers: [61, 26, 78, 59, 59]\n",
      "Maximum: 78\n",
      "Minimum: 26\n"
     ]
    }
   ],
   "source": [
    "# 3. Using max() and min() functions display the maximum and minimum of 5 random numbers. \n",
    "# Ans:\n",
    "import random\n",
    "\n",
    "numbers = [random.randint(1, 100) for _ in range(5)]\n",
    "print(\"Random numbers:\", numbers)\n",
    "\n",
    "print(\"Maximum:\", max(numbers))\n",
    "print(\"Minimum:\", min(numbers))"
   ]
  },
  {
   "cell_type": "code",
   "execution_count": 5,
   "metadata": {},
   "outputs": [
    {
     "name": "stdout",
     "output_type": "stream",
     "text": [
      "Your name in lowercase is: ayush\n"
     ]
    }
   ],
   "source": [
    "# 4. Accept a name from the user and display that in lower case using lower() function\n",
    "# Ans:\n",
    "name = input(\"Please enter your name: \")\n",
    "\n",
    "lowercase_name = name.lower()\n",
    "\n",
    "print(\"Your name in lowercase is:\", lowercase_name)"
   ]
  }
 ],
 "metadata": {
  "kernelspec": {
   "display_name": "Python 3",
   "language": "python",
   "name": "python3"
  },
  "language_info": {
   "codemirror_mode": {
    "name": "ipython",
    "version": 3
   },
   "file_extension": ".py",
   "mimetype": "text/x-python",
   "name": "python",
   "nbconvert_exporter": "python",
   "pygments_lexer": "ipython3",
   "version": "3.12.5"
  }
 },
 "nbformat": 4,
 "nbformat_minor": 2
}
