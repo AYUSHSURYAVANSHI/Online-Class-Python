{
 "cells": [
  {
   "cell_type": "code",
   "execution_count": 1,
   "metadata": {},
   "outputs": [
    {
     "name": "stdout",
     "output_type": "stream",
     "text": [
      "The number 33 is Odd.\n"
     ]
    }
   ],
   "source": [
    "# 1. Using input() function take one number from the user and using ternary operators check whether the number is even or odd \n",
    "# Ans:\n",
    "# Take input from the user\n",
    "number = int(input(\"Enter a number: \"))  # Convert the input to an integer\n",
    "\n",
    "# Use a ternary operator to check if the number is even or odd\n",
    "result = \"Even\" if number % 2 == 0 else \"Odd\"\n",
    "\n",
    "# Print the result\n",
    "print(f\"The number {number} is {result}.\")"
   ]
  },
  {
   "cell_type": "code",
   "execution_count": 2,
   "metadata": {},
   "outputs": [
    {
     "name": "stdout",
     "output_type": "stream",
     "text": [
      "Before swapping: num1 = 3, num2 = 34\n",
      "After swapping: num1 = 34, num2 = 3\n"
     ]
    }
   ],
   "source": [
    "# 2. Using input function take two number and then swap the number \n",
    "# Ans:\n",
    "num1 = input(\"Enter the first number: \")\n",
    "\n",
    "num2 = input(\"Enter the second number: \")\n",
    "\n",
    "print(f\"Before swapping: num1 = {num1}, num2 = {num2}\")\n",
    "\n",
    "temp = num1\n",
    "num1 = num2\n",
    "num2 = temp\n",
    "\n",
    "print(f\"After swapping: num1 = {num1}, num2 = {num2}\")"
   ]
  },
  {
   "cell_type": "code",
   "execution_count": 3,
   "metadata": {},
   "outputs": [
    {
     "name": "stdout",
     "output_type": "stream",
     "text": [
      "22.0 kilometers is equal to 13.670162 miles.\n"
     ]
    }
   ],
   "source": [
    "# 3. Write a Program to Convert Kilometers to Miles \n",
    "# Ans:\n",
    "conversion_factor = 0.621371\n",
    "\n",
    "kilometers = float(input(\"Enter distance in kilometers: \"))\n",
    "\n",
    "miles = kilometers * conversion_factor\n",
    "\n",
    "print(f\"{kilometers} kilometers is equal to {miles} miles.\")"
   ]
  },
  {
   "cell_type": "code",
   "execution_count": 4,
   "metadata": {},
   "outputs": [
    {
     "name": "stdout",
     "output_type": "stream",
     "text": [
      "The Simple Interest on Rs. 200 for 5 years at 5% per year is Rs. 50.0.\n"
     ]
    }
   ],
   "source": [
    "# 4. Find the Simple Interest on Rs. 200 for 5 years at 5% per year.\n",
    "# Ans:\n",
    "principal = 200\n",
    "time = 5\n",
    "rate = 5\n",
    "\n",
    "simple_interest = (principal * rate * time) / 100\n",
    "\n",
    "print(f\"The Simple Interest on Rs. {principal} for {time} years at {rate}% per year is Rs. {simple_interest}.\")"
   ]
  }
 ],
 "metadata": {
  "kernelspec": {
   "display_name": "Python 3",
   "language": "python",
   "name": "python3"
  },
  "language_info": {
   "codemirror_mode": {
    "name": "ipython",
    "version": 3
   },
   "file_extension": ".py",
   "mimetype": "text/x-python",
   "name": "python",
   "nbconvert_exporter": "python",
   "pygments_lexer": "ipython3",
   "version": "3.12.5"
  }
 },
 "nbformat": 4,
 "nbformat_minor": 2
}
